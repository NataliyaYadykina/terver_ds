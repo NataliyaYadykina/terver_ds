{
 "cells": [
  {
   "cell_type": "code",
   "execution_count": 8,
   "metadata": {},
   "outputs": [],
   "source": [
    "from math import sqrt\n",
    "import numpy as np\n",
    "import scipy.stats as stats"
   ]
  },
  {
   "attachments": {},
   "cell_type": "markdown",
   "metadata": {},
   "source": [
    "# Домашняя работа по уроку 6. Сравнение долей. Построение доверительного интервала"
   ]
  },
  {
   "attachments": {},
   "cell_type": "markdown",
   "metadata": {},
   "source": [
    "-------------------"
   ]
  },
  {
   "attachments": {},
   "cell_type": "markdown",
   "metadata": {},
   "source": [
    "## Задача 1\n",
    "\n",
    "Известно, что генеральная совокупность распределена нормально\n",
    "\n",
    "со средним квадратическим отклонением, равным 16.\n",
    "\n",
    "Найти доверительный интервал для оценки математического ожидания с надежностью 0.95,\n",
    "\n",
    "если выборочная средняя M = 80, а объем выборки n = 256.\n",
    "\n",
    "### Решение\n",
    "\n",
    "Так как интервал будем строить для оценки математического ожидания\n",
    "\n",
    "и нам известно среднее квадратическое отклонение, используем формулу:\n",
    "\n",
    "X - Z<sub>α/2</sub> * (σ / sqrt(n))\n",
    "\n",
    "X + Z<sub>α/2</sub> * (σ / sqrt(n))"
   ]
  },
  {
   "cell_type": "code",
   "execution_count": 6,
   "metadata": {},
   "outputs": [
    {
     "data": {
      "text/plain": [
       "(78.04, 81.96)"
      ]
     },
     "execution_count": 6,
     "metadata": {},
     "output_type": "execute_result"
    }
   ],
   "source": [
    "std = 16\n",
    "alpha = 0.05\n",
    "x = 80\n",
    "n = 256\n",
    "min = x - 1.96 * (std / sqrt(n))\n",
    "max = x + 1.96 * (std / sqrt(n))\n",
    "min, max"
   ]
  },
  {
   "attachments": {},
   "cell_type": "markdown",
   "metadata": {},
   "source": [
    "Ответ: p(78.04 < x < 81.96) = 0.95"
   ]
  },
  {
   "attachments": {},
   "cell_type": "markdown",
   "metadata": {},
   "source": [
    "-------------------"
   ]
  },
  {
   "attachments": {},
   "cell_type": "markdown",
   "metadata": {},
   "source": [
    "## Задача 2\n",
    "\n",
    "В результате 10 независимых измерений некоторой величины X, \n",
    "\n",
    "выполненных с одинаковой точностью, получены опытные данные: \n",
    "\n",
    "6.9, 6.1, 6.2, 6.8, 7.5, 6.3, 6.4, 6.9, 6.7, 6.1\n",
    "\n",
    "Предполагая, что результаты измерений подчинены нормальному закону распределения вероятностей,\n",
    "\n",
    "оценить истинное значение величины X при помощи доверительного интервала,\n",
    "\n",
    "покрывающего это значение с доверительной вероятностью 0,95.\n",
    "\n",
    "### Решение\n",
    "\n",
    "Так как оцениваем значение средней, при этом не зная дисперсию, используем формулу:\n",
    "\n",
    "X - t<sub>α/2</sub> * (σ / sqrt(n))\n",
    "\n",
    "X + t<sub>α/2</sub> * (σ / sqrt(n))"
   ]
  },
  {
   "cell_type": "code",
   "execution_count": 11,
   "metadata": {},
   "outputs": [
    {
     "data": {
      "text/plain": [
       "(6.590000000000001, 6.267515851415713, 6.912484148584288)"
      ]
     },
     "execution_count": 11,
     "metadata": {},
     "output_type": "execute_result"
    }
   ],
   "source": [
    "alpha = 0.05\n",
    "x = np.array([6.9, 6.1, 6.2, 6.8, 7.5, 6.3, 6.4, 6.9, 6.7, 6.1])\n",
    "n = 10\n",
    "mean = np.mean(x) # среднее\n",
    "t = stats.t.ppf(0.975, 9) # t-критерий\n",
    "std = np.std(x, ddof=1) # среднее квадратичное отклонение несмещенное \n",
    "min = mean - t * (std / sqrt(n)) # нижняя граница интервала\n",
    "max = mean + t * (std / sqrt(n)) # верхняя граница интервала\n",
    "mean, min, max"
   ]
  },
  {
   "attachments": {},
   "cell_type": "markdown",
   "metadata": {},
   "source": [
    "Ответ: p(6.27 < x < 6.91) = 0.95"
   ]
  },
  {
   "attachments": {},
   "cell_type": "markdown",
   "metadata": {},
   "source": [
    "-----------"
   ]
  },
  {
   "attachments": {},
   "cell_type": "markdown",
   "metadata": {},
   "source": [
    "## Задача 3\n",
    "\n",
    "Рост дочерей 175, 167, 154, 174, 178, 148, 160, 167, 169, 170\n",
    "\n",
    "Рост матерей 178, 165, 165, 173, 168, 155, 160, 164, 178, 175\n",
    "\n",
    "Используя эти данные, построить 95% доверительный интервал \n",
    "\n",
    "для разности среднего роста родителей и детей.\n",
    "\n",
    "### Решение\n",
    "\n",
    "Интервальная оценка для разности средних арифметических:\n",
    "\n",
    "delta - t<sub>α/2</sub> * S<sub>delta</sub>\n",
    "\n",
    "delta + t<sub>α/2</sub> * S<sub>delta</sub>\n",
    "\n",
    "delta = x1 - x2\n",
    "\n",
    "D = 1/2 * (D1 + D2)\n",
    "\n",
    "S<sub>delta</sub> = sqrt(D/n1 + D/n2)\n",
    "\n",
    "df = 2 * (n - 1)"
   ]
  },
  {
   "cell_type": "code",
   "execution_count": 14,
   "metadata": {},
   "outputs": [
    {
     "data": {
      "text/plain": [
       "(166.2, 168.1, -1.9000000000000057, -9.649241760831261, 5.84924176083125)"
      ]
     },
     "execution_count": 14,
     "metadata": {},
     "output_type": "execute_result"
    }
   ],
   "source": [
    "x_1 = np.array([175, 167, 154, 174, 178, 148, 160, 167, 169, 170])\n",
    "x_2 = np.array([178, 165, 165, 173, 168, 155, 160, 164, 178, 175])\n",
    "n1 = len(x_1)\n",
    "n2 = len(x_2)\n",
    "# delta\n",
    "mean_1 = np.mean(x_1)\n",
    "mean_2 = np.mean(x_2)\n",
    "delta = mean_1 - mean_2\n",
    "# t\n",
    "t = stats.t.ppf(0.975, 2 * (n1 - 1))\n",
    "# D\n",
    "var_1 = np.var(x_1)\n",
    "var_2 = np.var(x_2)\n",
    "D = 1/2 * (var_1 + var_2)\n",
    "# S\n",
    "S = np.sqrt(D/n1 + D/n2)\n",
    "\n",
    "min = delta - t * S\n",
    "max = delta + t * S\n",
    "\n",
    "mean_1, mean_2, delta, min, max"
   ]
  },
  {
   "attachments": {},
   "cell_type": "markdown",
   "metadata": {},
   "source": [
    "Ответ: p(-9.65 < delta < 5.85) = 0.95"
   ]
  }
 ],
 "metadata": {
  "kernelspec": {
   "display_name": "Python 3",
   "language": "python",
   "name": "python3"
  },
  "language_info": {
   "codemirror_mode": {
    "name": "ipython",
    "version": 3
   },
   "file_extension": ".py",
   "mimetype": "text/x-python",
   "name": "python",
   "nbconvert_exporter": "python",
   "pygments_lexer": "ipython3",
   "version": "3.10.11"
  },
  "orig_nbformat": 4
 },
 "nbformat": 4,
 "nbformat_minor": 2
}
