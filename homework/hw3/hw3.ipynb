{
 "cells": [
  {
   "cell_type": "code",
   "execution_count": 88,
   "metadata": {},
   "outputs": [],
   "source": [
    "from math import sqrt\n",
    "from math import factorial"
   ]
  },
  {
   "attachments": {},
   "cell_type": "markdown",
   "metadata": {},
   "source": [
    "# Домашняя работа по уроку 3. EDA (exploratory data analysis) или Разведочный анализ"
   ]
  },
  {
   "attachments": {},
   "cell_type": "markdown",
   "metadata": {},
   "source": [
    "## Задание 1"
   ]
  },
  {
   "attachments": {},
   "cell_type": "markdown",
   "metadata": {},
   "source": [
    "Даны значения зарплат из выборки выпускников: \n",
    "\n",
    "100, 80, 75, 77, 89, 33, 45, 25, 65, 17, 30, 24, 57, 55, 70, 75, 65, 84, 90, 150. \n",
    "\n",
    "Посчитать (желательно без использования статистических методов наподобие std, var, mean) \n",
    "\n",
    "среднее арифметическое, среднее квадратичное отклонение, \n",
    "\n",
    "смещенную и несмещенную оценки дисперсий для данной выборки."
   ]
  },
  {
   "attachments": {},
   "cell_type": "markdown",
   "metadata": {},
   "source": [
    "---------"
   ]
  },
  {
   "attachments": {},
   "cell_type": "markdown",
   "metadata": {},
   "source": [
    "### Решение"
   ]
  },
  {
   "cell_type": "code",
   "execution_count": 89,
   "metadata": {},
   "outputs": [
    {
     "data": {
      "text/plain": [
       "65.3"
      ]
     },
     "execution_count": 89,
     "metadata": {},
     "output_type": "execute_result"
    }
   ],
   "source": [
    "salary_lst = [100, 80, 75, 77, 89, 33, 45, 25, 65, 17, 30, 24, 57, 55, 70, 75, 65, 84, 90, 150]\n",
    "\n",
    "# Среднее арифметическое\n",
    "avarage = sum(salary_lst) / len(salary_lst)\n",
    "avarage"
   ]
  },
  {
   "cell_type": "code",
   "execution_count": 90,
   "metadata": {},
   "outputs": [
    {
     "data": {
      "text/plain": [
       "950.11"
      ]
     },
     "execution_count": 90,
     "metadata": {},
     "output_type": "execute_result"
    }
   ],
   "source": [
    "# Смещенная дисперсия\n",
    "disp1 = sum((x-avarage)**2 for x in salary_lst)/(len(salary_lst))\n",
    "disp1"
   ]
  },
  {
   "cell_type": "code",
   "execution_count": 91,
   "metadata": {},
   "outputs": [
    {
     "data": {
      "text/plain": [
       "1000.1157894736842"
      ]
     },
     "execution_count": 91,
     "metadata": {},
     "output_type": "execute_result"
    }
   ],
   "source": [
    "# Несмещенная дисперсия\n",
    "disp2 = sum((x-avarage)**2 for x in salary_lst)/((len(salary_lst))-1)\n",
    "disp2"
   ]
  },
  {
   "cell_type": "code",
   "execution_count": 92,
   "metadata": {},
   "outputs": [
    {
     "data": {
      "text/plain": [
       "30.823854398825596"
      ]
     },
     "execution_count": 92,
     "metadata": {},
     "output_type": "execute_result"
    }
   ],
   "source": [
    "# Среднее квадратичное отклонение\n",
    "sqrt(sum((x-avarage)**2 for x in salary_lst)/(len(salary_lst)))"
   ]
  },
  {
   "attachments": {},
   "cell_type": "markdown",
   "metadata": {},
   "source": [
    "----"
   ]
  },
  {
   "attachments": {},
   "cell_type": "markdown",
   "metadata": {},
   "source": [
    "## Задание 2"
   ]
  },
  {
   "attachments": {},
   "cell_type": "markdown",
   "metadata": {},
   "source": [
    "В первом ящике находится 8 мячей, из которых 5 - белые. \n",
    "\n",
    "Во втором ящике - 12 мячей, из которых 5 белых. \n",
    "\n",
    "Из первого ящика вытаскивают случайным образом два мяча, из второго - 4. \n",
    "\n",
    "Какова вероятность того, что 3 мяча белые?"
   ]
  },
  {
   "cell_type": "markdown",
   "metadata": {},
   "source": [
    "### Решение"
   ]
  },
  {
   "cell_type": "code",
   "execution_count": 93,
   "metadata": {},
   "outputs": [],
   "source": [
    "# Всего - С(2 из 8) и С(4 из 12)\n",
    "# Варианты:\n",
    "# 1) ББ Б000 - (С(2 из 5) и С(0 из 3)) и (С(1 из 5) и С(3 из 7))     или\n",
    "# 2) Б0 ББ00 - (С(1 из 5) и С(1 из 3)) и (С(2 из 5) и С(2 из 7))     или\n",
    "# 3) 00 БББ0 - (С(0 из 5) и С(2 из 3)) и (С(3 из 5) и С(1 из 7))\n",
    "\n",
    "# p = m / n\n",
    "\n",
    "# Берем не все мячи, порядок не важен"
   ]
  },
  {
   "cell_type": "code",
   "execution_count": 94,
   "metadata": {},
   "outputs": [
    {
     "data": {
      "text/plain": [
       "13860"
      ]
     },
     "execution_count": 94,
     "metadata": {},
     "output_type": "execute_result"
    }
   ],
   "source": [
    "n = (factorial(8)//(factorial(2)*factorial(6))) * (factorial(12)//(factorial(4)*factorial(8)))\n",
    "n"
   ]
  },
  {
   "cell_type": "code",
   "execution_count": 95,
   "metadata": {},
   "outputs": [
    {
     "data": {
      "text/plain": [
       "5110"
      ]
     },
     "execution_count": 95,
     "metadata": {},
     "output_type": "execute_result"
    }
   ],
   "source": [
    "# 1) 2 белых мяча из первого ящика и 1 белый мяч из второго ящика\n",
    "m1 = (factorial(5)//(factorial(2)*factorial(3))) * 1 * 5 * (factorial(7)//(factorial(3)*factorial(4)))\n",
    "# 2) 1 белый мяч из первого ящика и 2 белых мяча из второго ящика\n",
    "m2 = 5 * 3 * (factorial(5)//(factorial(2)*factorial(3))) * (factorial(7)//(factorial(2)*factorial(5)))\n",
    "# 3) 0 белых мячей из первого ящика и 3 белых мяча из второго ящика\n",
    "m3 = 1 * (factorial(3)//(factorial(2)*1)) * (factorial(5)//(factorial(3)*factorial(2))) * 7\n",
    "\n",
    "# Общее количество благоприятных исходов\n",
    "m = m1 + m2 + m3\n",
    "m"
   ]
  },
  {
   "cell_type": "code",
   "execution_count": 96,
   "metadata": {},
   "outputs": [
    {
     "data": {
      "text/plain": [
       "36.87"
      ]
     },
     "execution_count": 96,
     "metadata": {},
     "output_type": "execute_result"
    }
   ],
   "source": [
    "p = round(m/n * 100, 2)\n",
    "p"
   ]
  },
  {
   "attachments": {},
   "cell_type": "markdown",
   "metadata": {},
   "source": [
    "----"
   ]
  },
  {
   "attachments": {},
   "cell_type": "markdown",
   "metadata": {},
   "source": [
    "## Задание 3"
   ]
  },
  {
   "attachments": {},
   "cell_type": "markdown",
   "metadata": {},
   "source": [
    "На соревновании по биатлону один из трех спортсменов стреляет и попадает в мишень. \n",
    "\n",
    "Вероятность попадания для первого спортсмена равна 0.9, для второго — 0.8, для третьего — 0.6. \n",
    "\n",
    "Найти вероятность того, что выстрел произведен: \n",
    "\n",
    "a). первым спортсменом \n",
    "\n",
    "б). вторым спортсменом \n",
    "\n",
    "в). третьим спортсменом."
   ]
  },
  {
   "cell_type": "markdown",
   "metadata": {},
   "source": [
    "### Решение"
   ]
  },
  {
   "attachments": {},
   "cell_type": "markdown",
   "metadata": {},
   "source": [
    "Событие А - стрелок попал в мишень\n",
    "\n",
    "B1 - выстрелил первый стрелок\n",
    "\n",
    "B2 - выстрелил второй стрелок\n",
    "\n",
    "B3 - выстрелил третий стрелок\n",
    "\n",
    "B1 = B2 = B3 = 1/3\n",
    "\n",
    "P(B|A) = P(A|B)*P(B) / P(A)\n",
    "\n",
    "P(A) = P(B1) * P(A|B1) + P(B2) * P(A|B2) + P(B3) * P(A|B3)"
   ]
  },
  {
   "cell_type": "code",
   "execution_count": 98,
   "metadata": {},
   "outputs": [
    {
     "data": {
      "text/plain": [
       "0.77"
      ]
     },
     "execution_count": 98,
     "metadata": {},
     "output_type": "execute_result"
    }
   ],
   "source": [
    "# Полная вероятность P(A)\n",
    "p = 1/3 * 0.9 + 1/3 * 0.8 + 1/3 * 0.6\n",
    "round(p, 2)"
   ]
  },
  {
   "cell_type": "code",
   "execution_count": 100,
   "metadata": {},
   "outputs": [
    {
     "data": {
      "text/plain": [
       "'0.39'"
      ]
     },
     "execution_count": 100,
     "metadata": {},
     "output_type": "execute_result"
    }
   ],
   "source": [
    "# a) выстрелил первый стрелок\n",
    "f'{round((0.9 * 1/3) / p, 2)}'"
   ]
  },
  {
   "cell_type": "code",
   "execution_count": 101,
   "metadata": {},
   "outputs": [
    {
     "data": {
      "text/plain": [
       "'0.35'"
      ]
     },
     "execution_count": 101,
     "metadata": {},
     "output_type": "execute_result"
    }
   ],
   "source": [
    "# б) выстрелил второй стрелок\n",
    "f'{round((0.8 * 1/3) / p, 2)}'"
   ]
  },
  {
   "cell_type": "code",
   "execution_count": 102,
   "metadata": {},
   "outputs": [
    {
     "data": {
      "text/plain": [
       "'0.26'"
      ]
     },
     "execution_count": 102,
     "metadata": {},
     "output_type": "execute_result"
    }
   ],
   "source": [
    "# в) выстрелил третий стрелок\n",
    "f'{round((0.6 * 1/3) / p, 2)}'"
   ]
  },
  {
   "cell_type": "markdown",
   "metadata": {},
   "source": [
    "----"
   ]
  },
  {
   "attachments": {},
   "cell_type": "markdown",
   "metadata": {},
   "source": [
    "## Задание 4"
   ]
  },
  {
   "attachments": {},
   "cell_type": "markdown",
   "metadata": {},
   "source": [
    "В университет на факультеты A и B поступило равное количество студентов, \n",
    "\n",
    "а на факультет C студентов поступило столько же, сколько на A и B вместе. \n",
    "\n",
    "Вероятность того, что студент факультета A сдаст первую сессию, равна 0.8. \n",
    "\n",
    "Для студента факультета B эта вероятность равна 0.7, а для студента факультета C - 0.9. \n",
    "\n",
    "Студент сдал первую сессию. Какова вероятность, что он учится: \n",
    "\n",
    "a). на факультете A \n",
    "\n",
    "б). на факультете B \n",
    "\n",
    "в). на факультете C?"
   ]
  },
  {
   "cell_type": "markdown",
   "metadata": {},
   "source": [
    "### Решение"
   ]
  },
  {
   "attachments": {},
   "cell_type": "markdown",
   "metadata": {},
   "source": [
    "Событие А - студент сдал сессию\n",
    "\n",
    "B1 - он на факультете А\n",
    "\n",
    "B2 - он на факультете В\n",
    "\n",
    "B3 - он на факультете С\n",
    "\n",
    "В1 = 0.25\n",
    "\n",
    "В2 = 0.25\n",
    "\n",
    "В3 = 0.5\n",
    "\n",
    "P(B|A) = P(A|B)*P(B) / P(A)\n",
    "\n",
    "P(A) = P(B1) * P(A|B1) + P(B2) * P(A|B2) + P(B3) * P(A|B3)"
   ]
  },
  {
   "cell_type": "code",
   "execution_count": 103,
   "metadata": {},
   "outputs": [
    {
     "data": {
      "text/plain": [
       "0.82"
      ]
     },
     "execution_count": 103,
     "metadata": {},
     "output_type": "execute_result"
    }
   ],
   "source": [
    "# Полная вероятность P(A)\n",
    "p = 0.8*0.25 + 0.7*0.25 + 0.9*0.5\n",
    "round(p, 2)"
   ]
  },
  {
   "cell_type": "code",
   "execution_count": 105,
   "metadata": {},
   "outputs": [
    {
     "data": {
      "text/plain": [
       "'0.24'"
      ]
     },
     "execution_count": 105,
     "metadata": {},
     "output_type": "execute_result"
    }
   ],
   "source": [
    "# а) студент на факультете А\n",
    "f'{round((0.8*0.25) / p, 2)}'"
   ]
  },
  {
   "cell_type": "code",
   "execution_count": 106,
   "metadata": {},
   "outputs": [
    {
     "data": {
      "text/plain": [
       "'0.21'"
      ]
     },
     "execution_count": 106,
     "metadata": {},
     "output_type": "execute_result"
    }
   ],
   "source": [
    "# б) студент на факультете В\n",
    "f'{round((0.7*0.25) / p, 2)}'"
   ]
  },
  {
   "cell_type": "code",
   "execution_count": 107,
   "metadata": {},
   "outputs": [
    {
     "data": {
      "text/plain": [
       "'0.55'"
      ]
     },
     "execution_count": 107,
     "metadata": {},
     "output_type": "execute_result"
    }
   ],
   "source": [
    "# в) студент на факультете С\n",
    "f'{round((0.9*0.5) / p, 2)}'"
   ]
  },
  {
   "cell_type": "markdown",
   "metadata": {},
   "source": [
    "----"
   ]
  },
  {
   "attachments": {},
   "cell_type": "markdown",
   "metadata": {},
   "source": [
    "## Задание 5"
   ]
  },
  {
   "attachments": {},
   "cell_type": "markdown",
   "metadata": {},
   "source": [
    "Устройство состоит из трех деталей. \n",
    "\n",
    "Для первой детали вероятность выйти из строя в первый месяц равна 0.1, \n",
    "\n",
    "для второй - 0.2, для третьей - 0.25. \n",
    "\n",
    "Какова вероятность того, что в первый месяц выйдут из строя: \n",
    "\n",
    "а). все детали \n",
    "\n",
    "б). только две детали \n",
    "\n",
    "в). хотя бы одна деталь \n",
    "\n",
    "г). от одной до двух деталей?"
   ]
  },
  {
   "cell_type": "markdown",
   "metadata": {},
   "source": [
    "### Решение"
   ]
  },
  {
   "cell_type": "code",
   "execution_count": 111,
   "metadata": {},
   "outputs": [
    {
     "data": {
      "text/plain": [
       "0.01"
      ]
     },
     "execution_count": 111,
     "metadata": {},
     "output_type": "execute_result"
    }
   ],
   "source": [
    "# а) выйдут из строя все детали\n",
    "a = 0.1*0.2*0.25\n",
    "round(a, 2)"
   ]
  },
  {
   "cell_type": "code",
   "execution_count": 113,
   "metadata": {},
   "outputs": [
    {
     "data": {
      "text/plain": [
       "0.08"
      ]
     },
     "execution_count": 113,
     "metadata": {},
     "output_type": "execute_result"
    }
   ],
   "source": [
    "# б) выйдут из строя только 2 детали \n",
    "# (т.е. одна из трех не выйдет из строя: q = 1 - p)\n",
    "b = 0.9*0.2*0.25 + 0.1*0.8*0.25 + 0.1*0.2*0.75\n",
    "round(b, 2)"
   ]
  },
  {
   "cell_type": "code",
   "execution_count": 117,
   "metadata": {},
   "outputs": [
    {
     "data": {
      "text/plain": [
       "0.46"
      ]
     },
     "execution_count": 117,
     "metadata": {},
     "output_type": "execute_result"
    }
   ],
   "source": [
    "# в) выйдет из строя хотя бы одна деталь (или 1 или 2(б) или 3(а)) \n",
    "\n",
    "# для случая 1 деталь вышла из строя (т.е. при этом две другие из строя не вышли)\n",
    "x = 0.1*0.8*0.75 + 0.9*0.2*0.75 + 0.9*0.8*0.25\n",
    "\n",
    "с = a + b + x\n",
    "round(с, 2)"
   ]
  },
  {
   "cell_type": "code",
   "execution_count": 118,
   "metadata": {},
   "outputs": [
    {
     "data": {
      "text/plain": [
       "0.455"
      ]
     },
     "execution_count": 118,
     "metadata": {},
     "output_type": "execute_result"
    }
   ],
   "source": [
    "# г) выйдет из строя от 1 до двух деталей (или 1(в(х)) или 2(б))\n",
    "g = x + b\n",
    "g"
   ]
  }
 ],
 "metadata": {
  "kernelspec": {
   "display_name": "Python 3",
   "language": "python",
   "name": "python3"
  },
  "language_info": {
   "codemirror_mode": {
    "name": "ipython",
    "version": 3
   },
   "file_extension": ".py",
   "mimetype": "text/x-python",
   "name": "python",
   "nbconvert_exporter": "python",
   "pygments_lexer": "ipython3",
   "version": "3.10.10"
  },
  "orig_nbformat": 4
 },
 "nbformat": 4,
 "nbformat_minor": 2
}
