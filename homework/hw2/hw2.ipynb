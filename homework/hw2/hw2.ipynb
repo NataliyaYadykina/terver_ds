{
 "cells": [
  {
   "cell_type": "code",
   "execution_count": 11,
   "metadata": {},
   "outputs": [],
   "source": [
    "from math import factorial\n",
    "from math import exp"
   ]
  },
  {
   "attachments": {},
   "cell_type": "markdown",
   "metadata": {},
   "source": [
    "# Домашняя работа по уроку 2. Дискретные распределения вероятностей"
   ]
  },
  {
   "attachments": {},
   "cell_type": "markdown",
   "metadata": {},
   "source": [
    "---------"
   ]
  },
  {
   "attachments": {},
   "cell_type": "markdown",
   "metadata": {},
   "source": [
    "## Задача 1"
   ]
  },
  {
   "attachments": {},
   "cell_type": "markdown",
   "metadata": {},
   "source": [
    "Вероятность того, что стрелок попадет в мишень, выстрелив один раз, равна 0.8. \n",
    "\n",
    "Стрелок выстрелил 100 раз. Найдите вероятность того, что стрелок попадет в цель ровно 85 раз."
   ]
  },
  {
   "attachments": {},
   "cell_type": "markdown",
   "metadata": {},
   "source": [
    "### Решение"
   ]
  },
  {
   "attachments": {},
   "cell_type": "markdown",
   "metadata": {},
   "source": [
    "- знаем точную вероятность одного выстрела\n",
    "\n",
    "- ищем вероятность наступления события 85 раз из 100\n",
    "\n",
    "- проводится небольшое число испытаний, 100 раз\n",
    "\n",
    "Это биномаильное распределение\n",
    "\n",
    "Используем формулу Бернулли:"
   ]
  },
  {
   "attachments": {},
   "cell_type": "markdown",
   "metadata": {},
   "source": [
    "P(X = k) = C<sub>n</sub><sup>k</sup> * p<sup>k</sup> * q<sup>n - k</sup>"
   ]
  },
  {
   "attachments": {},
   "cell_type": "markdown",
   "metadata": {},
   "source": [
    "P(X = 85) = C<sub>100</sub><sup>85</sup> * 0.8<sup>85</sup> * 0.2<sup>15</sup>"
   ]
  },
  {
   "cell_type": "code",
   "execution_count": 12,
   "metadata": {},
   "outputs": [
    {
     "data": {
      "text/plain": [
       "'Ответ: P(X) = 4.81%.'"
      ]
     },
     "execution_count": 12,
     "metadata": {},
     "output_type": "execute_result"
    }
   ],
   "source": [
    "f'Ответ: P(X) = {round((factorial(100) / (factorial(85) * factorial(15))) * (0.8 ** 85) * (0.2 ** 15) * 100, 2)}%.'"
   ]
  },
  {
   "cell_type": "markdown",
   "metadata": {},
   "source": [
    "---------"
   ]
  },
  {
   "attachments": {},
   "cell_type": "markdown",
   "metadata": {},
   "source": [
    "## Задача 2"
   ]
  },
  {
   "attachments": {},
   "cell_type": "markdown",
   "metadata": {},
   "source": [
    "Вероятность того, что лампочка перегорит в течение первого дня эксплуатации, равна 0.0004. \n",
    "\n",
    "В жилом комплексе после ремонта в один день включили 5000 новых лампочек. \n",
    "\n",
    "Какова вероятность, что ни одна из них не перегорит в первый день? \n",
    "\n",
    "Какова вероятность, что перегорят ровно две?"
   ]
  },
  {
   "attachments": {},
   "cell_type": "markdown",
   "metadata": {},
   "source": [
    "### Решение"
   ]
  },
  {
   "attachments": {},
   "cell_type": "markdown",
   "metadata": {},
   "source": [
    "- известна вероятность наступления события\n",
    "\n",
    "- большое количество испытаний\n",
    "\n",
    "- вероятность наступления события очень маленькая\n",
    "\n",
    "Это распределение Пуассона\n",
    "\n",
    "Используем формулу:\n",
    "\n",
    "P<sub>m</sub> ~ ((λ<sup>m</sup>) / m!) * (e<sup>-λ</sup>)\n",
    "\n",
    "n = 5000\n",
    "\n",
    "p = 0.0004\n",
    "\n",
    "λ = n * p = 5000 * 0.0004 = 2\n",
    "\n",
    "m1 = 0\n",
    "\n",
    "m2 = 2\n",
    "\n",
    "- вероятность, что ни одна не перегорит:\n",
    "\n",
    "P<sub>0</sub> ~ ((2<sup>0</sup>) / 0!) * (e<sup>-2</sup>)"
   ]
  },
  {
   "cell_type": "code",
   "execution_count": 13,
   "metadata": {},
   "outputs": [
    {
     "data": {
      "text/plain": [
       "'P = 13.53%'"
      ]
     },
     "execution_count": 13,
     "metadata": {},
     "output_type": "execute_result"
    }
   ],
   "source": [
    "f'P = {round(exp(-2) * 100, 2)}%'"
   ]
  },
  {
   "attachments": {},
   "cell_type": "markdown",
   "metadata": {},
   "source": [
    "- вероятность, что перегорят ровно 2 лампочки:\n",
    "\n",
    "P<sub>2</sub> ~ ((2<sup>2</sup>) / 2!) * (e<sup>-2</sup>)"
   ]
  },
  {
   "cell_type": "code",
   "execution_count": 14,
   "metadata": {},
   "outputs": [
    {
     "data": {
      "text/plain": [
       "'P = 27.07%'"
      ]
     },
     "execution_count": 14,
     "metadata": {},
     "output_type": "execute_result"
    }
   ],
   "source": [
    "f'P = {round(2 * exp(-2) * 100, 2)}%'"
   ]
  },
  {
   "attachments": {},
   "cell_type": "markdown",
   "metadata": {},
   "source": [
    "Ответ: 13.53%, 27.07%"
   ]
  },
  {
   "cell_type": "markdown",
   "metadata": {},
   "source": [
    "---------"
   ]
  },
  {
   "attachments": {},
   "cell_type": "markdown",
   "metadata": {},
   "source": [
    "## Задача 3"
   ]
  },
  {
   "attachments": {},
   "cell_type": "markdown",
   "metadata": {},
   "source": [
    "Монету подбросили 144 раза. Какова вероятность, что орел выпадет ровно 70 раз?"
   ]
  },
  {
   "cell_type": "markdown",
   "metadata": {},
   "source": [
    "### Решение"
   ]
  },
  {
   "attachments": {},
   "cell_type": "markdown",
   "metadata": {},
   "source": [
    "- знаем точную вероятность выпадения орла - 0.5\n",
    "\n",
    "- ищем вероятность наступления события 70 раз из 144\n",
    "\n",
    "- проводится небольшое число испытаний, 144 раза\n",
    "\n",
    "Это биномаильное распределение\n",
    "\n",
    "Используем формулу Бернулли:"
   ]
  },
  {
   "cell_type": "markdown",
   "metadata": {},
   "source": [
    "P(X = k) = C<sub>n</sub><sup>k</sup> * p<sup>k</sup> * q<sup>n - k</sup>"
   ]
  },
  {
   "attachments": {},
   "cell_type": "markdown",
   "metadata": {},
   "source": [
    "P(X = 70) = C<sub>144</sub><sup>70</sup> * 0.5<sup>70</sup> * 0.5<sup>144 - 70</sup>"
   ]
  },
  {
   "cell_type": "code",
   "execution_count": 15,
   "metadata": {},
   "outputs": [
    {
     "data": {
      "text/plain": [
       "'Ответ: P(X) = 6.28%.'"
      ]
     },
     "execution_count": 15,
     "metadata": {},
     "output_type": "execute_result"
    }
   ],
   "source": [
    "f'Ответ: P(X) = {round((factorial(144) / (factorial(70) * factorial(74))) * (0.5 ** 70) * (0.5 ** 74) * 100, 2)}%.'"
   ]
  },
  {
   "cell_type": "markdown",
   "metadata": {},
   "source": [
    "---------"
   ]
  },
  {
   "attachments": {},
   "cell_type": "markdown",
   "metadata": {},
   "source": [
    "## Задача 4"
   ]
  },
  {
   "attachments": {},
   "cell_type": "markdown",
   "metadata": {},
   "source": [
    "В первом ящике находится 10 мячей, из которых 7 - белые. \n",
    "\n",
    "Во втором ящике - 11 мячей, из которых 9 белых. \n",
    "\n",
    "Из каждого ящика вытаскивают случайным образом по два мяча. \n",
    "\n",
    "1) Какова вероятность того, что все мячи белые? \n",
    "\n",
    "2) Какова вероятность того, что ровно два мяча белые? \n",
    "\n",
    "3) Какова вероятность того, что хотя бы один мяч белый?"
   ]
  },
  {
   "cell_type": "markdown",
   "metadata": {},
   "source": [
    "### Решение"
   ]
  },
  {
   "attachments": {},
   "cell_type": "markdown",
   "metadata": {},
   "source": [
    "1) Только один благоприятный исход: (ББ) (ББ)\n",
    "\n",
    "P = (7 / 10) * (6 / 9) * (9 / 11) * (8 / 10)"
   ]
  },
  {
   "cell_type": "code",
   "execution_count": 16,
   "metadata": {},
   "outputs": [
    {
     "data": {
      "text/plain": [
       "'P = 30.55%'"
      ]
     },
     "execution_count": 16,
     "metadata": {},
     "output_type": "execute_result"
    }
   ],
   "source": [
    "f'P = {round((7/10) * (6/9) * (9/11) * (8/10) * 100, 2)}%'"
   ]
  },
  {
   "attachments": {},
   "cell_type": "markdown",
   "metadata": {},
   "source": [
    "2) 6 благоприятных исходов:\n",
    "\n",
    "(ББ)(ЧЧ) + (БЧ)(БЧ) + (БЧ)(ЧБ) + (ЧБ)(БЧ) + (ЧБ)(ЧБ) + (ЧЧ)(ББ)"
   ]
  },
  {
   "cell_type": "code",
   "execution_count": 17,
   "metadata": {},
   "outputs": [
    {
     "data": {
      "text/plain": [
       "'P = 0.2%'"
      ]
     },
     "execution_count": 17,
     "metadata": {},
     "output_type": "execute_result"
    }
   ],
   "source": [
    "f'P = {round(((7/10)*(6/9)*(2/11)*(1/10))+((7/10)*(3/9)*(9/11)*(2/10))+((7/10)*(3/9)*(2/11)*(9/10))+((3/10)*(7/9)*(9/11)*(2/10))+((3/10)*(7/9)*(2/11)*(9/10))+((3/10)*(2/9)*(9/11)*(8/10)), 2)}%'"
   ]
  },
  {
   "attachments": {},
   "cell_type": "markdown",
   "metadata": {},
   "source": [
    "3) Данную задачу решим от обратного.\n",
    "\n",
    "Найдем вероятность, что вытащат все черные мячи (ЧЧ)(ЧЧ)\n",
    "\n",
    "И вычтем полученное из 1"
   ]
  },
  {
   "cell_type": "code",
   "execution_count": 18,
   "metadata": {},
   "outputs": [
    {
     "data": {
      "text/plain": [
       "'P = 99.88%'"
      ]
     },
     "execution_count": 18,
     "metadata": {},
     "output_type": "execute_result"
    }
   ],
   "source": [
    "f'P = {round((1 - ((3/10) * (2/9) * (2/11) * (1/10))) * 100, 2)}%'"
   ]
  },
  {
   "attachments": {},
   "cell_type": "markdown",
   "metadata": {},
   "source": [
    "Ответ: 1) 30,55% 2) 0,2% 3) 99,88%."
   ]
  }
 ],
 "metadata": {
  "kernelspec": {
   "display_name": "Python 3",
   "language": "python",
   "name": "python3"
  },
  "language_info": {
   "codemirror_mode": {
    "name": "ipython",
    "version": 3
   },
   "file_extension": ".py",
   "mimetype": "text/x-python",
   "name": "python",
   "nbconvert_exporter": "python",
   "pygments_lexer": "ipython3",
   "version": "3.10.10"
  },
  "orig_nbformat": 4
 },
 "nbformat": 4,
 "nbformat_minor": 2
}
