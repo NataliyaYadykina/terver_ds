{
 "cells": [
  {
   "cell_type": "code",
   "execution_count": 1,
   "metadata": {},
   "outputs": [],
   "source": [
    "import numpy as np\n",
    "import scipy.stats as stats"
   ]
  },
  {
   "attachments": {},
   "cell_type": "markdown",
   "metadata": {},
   "source": [
    "# Домашняя работа по уроку 7. Непараметрические тесты"
   ]
  },
  {
   "attachments": {},
   "cell_type": "markdown",
   "metadata": {},
   "source": [
    "---------"
   ]
  },
  {
   "attachments": {},
   "cell_type": "markdown",
   "metadata": {},
   "source": [
    "## Задача 1\n",
    "\n",
    "Даны две независимые выборки. Не соблюдается условие нормальности\n",
    "\n",
    "x1 380,420, 290\n",
    "\n",
    "y1 140,360,200,900\n",
    "\n",
    "Сделайте вывод по результатам, полученным с помощью функции, \n",
    "\n",
    "имеются ли статистические различия между группами?\n",
    "\n",
    "### Решение\n",
    "\n",
    "Сравниваем 2 независимые выборки с помощью критерия Манна-Уитни"
   ]
  },
  {
   "cell_type": "code",
   "execution_count": 2,
   "metadata": {},
   "outputs": [
    {
     "data": {
      "text/plain": [
       "MannwhitneyuResult(statistic=8.0, pvalue=0.6285714285714286)"
      ]
     },
     "execution_count": 2,
     "metadata": {},
     "output_type": "execute_result"
    }
   ],
   "source": [
    "x1 = np.array([380, 420, 290])\n",
    "y1 = np.array([140, 360, 200, 900])\n",
    "\n",
    "stats.mannwhitneyu(x1, y1)"
   ]
  },
  {
   "attachments": {},
   "cell_type": "markdown",
   "metadata": {},
   "source": [
    "Ответ: pvalue = 0.629 > α = 0.05, =>, следовательно верна \n",
    "\n",
    "нулевая гипотеза об отсутствии статистических различий между группами"
   ]
  },
  {
   "attachments": {},
   "cell_type": "markdown",
   "metadata": {},
   "source": [
    "------------"
   ]
  },
  {
   "attachments": {},
   "cell_type": "markdown",
   "metadata": {},
   "source": [
    "## Задача 2\n",
    "\n",
    "Исследовалось влияние препарата на уровень давления пациентов. \n",
    "\n",
    "Сначала измерялось давление до приема препарата, потом через 10 минут и через 30 минут. \n",
    "\n",
    "Есть ли статистически значимые различия между измерениями давления? \n",
    "\n",
    "В выборках не соблюдается условие нормальности.\n",
    "\n",
    "1е измерение до приема препарата: 150, 160, 165, 145, 155\n",
    "\n",
    "2е измерение через 10 минут: 140, 155, 150, 130, 135\n",
    "\n",
    "3е измерение через 30 минут: 130, 130, 120, 130, 125\n",
    "\n",
    "### Решение\n",
    "\n",
    "Сравниваем 3 выборки, анализируя повторные измерения,\n",
    "\n",
    "с помощью критерия Фридмана"
   ]
  },
  {
   "cell_type": "code",
   "execution_count": 3,
   "metadata": {},
   "outputs": [
    {
     "data": {
      "text/plain": [
       "FriedmanchisquareResult(statistic=9.578947368421062, pvalue=0.00831683351100441)"
      ]
     },
     "execution_count": 3,
     "metadata": {},
     "output_type": "execute_result"
    }
   ],
   "source": [
    "arr1 = np.array([150, 160, 165, 145, 155])\n",
    "arr2 = np.array([140, 155, 150, 130, 135])\n",
    "arr3 = np.array([130, 130, 120, 130, 125])\n",
    "\n",
    "stats.friedmanchisquare(arr1, arr2, arr3)"
   ]
  },
  {
   "attachments": {},
   "cell_type": "markdown",
   "metadata": {},
   "source": [
    "Ответ: pvalue = 0.008 < α = 0.05, =>, следовательно, нулевую гипотезу об отсутствии различий отвергаем,\n",
    "\n",
    "т.е. различия между измерениями есть, препарат влияет на уровень давления пациентов."
   ]
  },
  {
   "attachments": {},
   "cell_type": "markdown",
   "metadata": {},
   "source": [
    "----------"
   ]
  },
  {
   "attachments": {},
   "cell_type": "markdown",
   "metadata": {},
   "source": [
    "## Задача 3\n",
    "\n",
    "Сравните 1 и 2 е измерения, предполагая, что 3го измерения через 30 минут не было. \n",
    "\n",
    "Есть ли статистически значимые различия между измерениями давления?\n",
    "\n",
    "### Решение\n",
    "\n",
    "Сравниваем 2 зависимые выборки, т.к. имеем дело с одними и теми же пациентами,\n",
    "\n",
    "с помощью критерия Уилкоксона"
   ]
  },
  {
   "cell_type": "code",
   "execution_count": 4,
   "metadata": {},
   "outputs": [
    {
     "data": {
      "text/plain": [
       "WilcoxonResult(statistic=0.0, pvalue=0.0625)"
      ]
     },
     "execution_count": 4,
     "metadata": {},
     "output_type": "execute_result"
    }
   ],
   "source": [
    "arr1 = np.array([150, 160, 165, 145, 155])\n",
    "arr2 = np.array([140, 155, 150, 130, 135])\n",
    "\n",
    "stats.wilcoxon(arr1, arr2)"
   ]
  },
  {
   "attachments": {},
   "cell_type": "markdown",
   "metadata": {},
   "source": [
    "Ответ: pvalue = 0.063 > α = 0.05, =>, следовательно, нулевая гипотеза об отсутствии различий верна."
   ]
  },
  {
   "attachments": {},
   "cell_type": "markdown",
   "metadata": {},
   "source": [
    "--------------"
   ]
  },
  {
   "attachments": {},
   "cell_type": "markdown",
   "metadata": {},
   "source": [
    "## Задача 4\n",
    "\n",
    "Даны 3 группы учеников плавания. Не соблюдается условие нормальности.\n",
    "\n",
    "В 1 группе время на дистанцию 50 м составляют:\n",
    "\n",
    "56, 60, 62, 55, 71, 67, 59, 58, 64, 67\n",
    "\n",
    "Вторая группа : 57, 58, 69, 48, 72, 70, 68, 71, 50, 53\n",
    "\n",
    "Третья группа: 57, 67, 49, 48, 47, 55, 66, 51, 54\n",
    "\n",
    "Есть ли статистически значимые различия между группами?\n",
    "\n",
    "### Решение\n",
    "\n",
    "Сравниваем 3 независимые выборки, т.к. имеем дело с разными участниками,\n",
    "\n",
    "с помощью критерия Крускала-Уоллиса"
   ]
  },
  {
   "cell_type": "code",
   "execution_count": 5,
   "metadata": {},
   "outputs": [
    {
     "data": {
      "text/plain": [
       "KruskalResult(statistic=5.465564058257224, pvalue=0.06503809985904942)"
      ]
     },
     "execution_count": 5,
     "metadata": {},
     "output_type": "execute_result"
    }
   ],
   "source": [
    "gr1 = np.array([56, 60, 62, 55, 71, 67, 59, 58, 64, 67])\n",
    "gr2 = np.array([57, 58, 69, 48, 72, 70, 68, 71, 50, 53])\n",
    "gr3 = np.array([57, 67, 49, 48, 47, 55, 66, 51, 54])\n",
    "\n",
    "stats.kruskal(gr1, gr2, gr3)"
   ]
  },
  {
   "attachments": {},
   "cell_type": "markdown",
   "metadata": {},
   "source": [
    "Ответ: pvalue = 0.065 > α = 0.05, =>, следовательно, нулевая гипотеза об отсутствии различий между группами верна."
   ]
  },
  {
   "attachments": {},
   "cell_type": "markdown",
   "metadata": {},
   "source": [
    "-----------"
   ]
  },
  {
   "attachments": {},
   "cell_type": "markdown",
   "metadata": {},
   "source": [
    "## Задача 5\n",
    "\n",
    "Заявляется, что партия изготавливается со средним арифметическим 2,5 см. \n",
    "\n",
    "Проверить данную гипотезу, если известно, \n",
    "\n",
    "что размеры изделий подчинены нормальному закону распределения. \n",
    "\n",
    "Объем выборки 10, уровень статистической значимости 5%\n",
    "\n",
    "2.51, 2.35, 2.74, 2.56, 2.40, 2.36, 2.65, 2.7, 2.67, 2.34\n",
    "\n",
    "### Решение\n",
    "\n",
    "1) Формулируем гипотезы:\n",
    "\n",
    "H0 : mu = 2.5 - предполагаем, что размер изделий составляет 2.5 см.\n",
    "\n",
    "H1 : mu != 2.5 - предполагаем, что размер изделий не равен 2.5 см.\n",
    "\n",
    "α = 0,05 - статистический уровень значимости обозначен условиями задачи.\n",
    "\n",
    "Нам не известна дисперсия, значит, будем использовать для проверки гипотезы t-критерий:\n",
    "\n",
    "Найдем наблюдаемое значение t-критерия:"
   ]
  },
  {
   "cell_type": "code",
   "execution_count": 6,
   "metadata": {},
   "outputs": [
    {
     "data": {
      "text/plain": [
       "2.5279999999999996"
      ]
     },
     "execution_count": 6,
     "metadata": {},
     "output_type": "execute_result"
    }
   ],
   "source": [
    "mu = 2.5\n",
    "n = 10\n",
    "arr = np.array([2.51, 2.35, 2.74, 2.56, 2.40, 2.36, 2.65, 2.7, 2.67, 2.34])\n",
    "alpha = 0.05\n",
    "\n",
    "# Среднее значение по выборке\n",
    "mean = np.mean(arr)\n",
    "mean"
   ]
  },
  {
   "cell_type": "code",
   "execution_count": 7,
   "metadata": {},
   "outputs": [
    {
     "data": {
      "text/plain": [
       "0.1572542173961923"
      ]
     },
     "execution_count": 7,
     "metadata": {},
     "output_type": "execute_result"
    }
   ],
   "source": [
    "# Среднее квадратичное отклонение по выборке\n",
    "std = np.std(arr, ddof=1)\n",
    "std"
   ]
  },
  {
   "cell_type": "code",
   "execution_count": 8,
   "metadata": {},
   "outputs": [
    {
     "data": {
      "text/plain": [
       "0.5630613661802959"
      ]
     },
     "execution_count": 8,
     "metadata": {},
     "output_type": "execute_result"
    }
   ],
   "source": [
    "# Наблюдаемое значение t-критерия\n",
    "t = (mean - mu) / (std / np.sqrt(n))\n",
    "t"
   ]
  },
  {
   "attachments": {},
   "cell_type": "markdown",
   "metadata": {},
   "source": [
    "Найдем табличное значение критерия Стьюдента для выборки из 10 изделий и α = 0,05"
   ]
  },
  {
   "cell_type": "code",
   "execution_count": 9,
   "metadata": {},
   "outputs": [
    {
     "data": {
      "text/plain": [
       "(-2.262157162740992, 2.2621571627409915)"
      ]
     },
     "execution_count": 9,
     "metadata": {},
     "output_type": "execute_result"
    }
   ],
   "source": [
    "t1 = stats.t.ppf(alpha/2, n - 1)\n",
    "t2 = stats.t.ppf(1 - alpha/2, n - 1)\n",
    "t1, t2"
   ]
  },
  {
   "cell_type": "code",
   "execution_count": null,
   "metadata": {},
   "outputs": [],
   "source": [
    "# \\\\\\\\\\\\\\\\\\\\                          /////////////\n",
    "# ----------|----------|-------------|-------------\n",
    "#          tкр        tн            tкр\n",
    "#        -2.26       0.56           2.26"
   ]
  },
  {
   "attachments": {},
   "cell_type": "markdown",
   "metadata": {},
   "source": [
    "Таким образом, видим, что наблюдаемое значение t-критерия расположено\n",
    "\n",
    "за пределами области критического значения t-критерия.\n",
    "\n",
    "Поэтому, мы считаем верной гипотезу H0 - средний размер изделий составляет 2.5 см."
   ]
  }
 ],
 "metadata": {
  "kernelspec": {
   "display_name": "Python 3",
   "language": "python",
   "name": "python3"
  },
  "language_info": {
   "codemirror_mode": {
    "name": "ipython",
    "version": 3
   },
   "file_extension": ".py",
   "mimetype": "text/x-python",
   "name": "python",
   "nbconvert_exporter": "python",
   "pygments_lexer": "ipython3",
   "version": "3.10.11"
  },
  "orig_nbformat": 4
 },
 "nbformat": 4,
 "nbformat_minor": 2
}
