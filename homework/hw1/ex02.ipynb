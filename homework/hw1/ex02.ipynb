{
 "cells": [
  {
   "cell_type": "code",
   "execution_count": 7,
   "metadata": {},
   "outputs": [],
   "source": [
    "from math import factorial"
   ]
  },
  {
   "cell_type": "markdown",
   "metadata": {},
   "source": [
    "# Домашняя работа по Уроку 1. Расчет вероятности случайных событий"
   ]
  },
  {
   "attachments": {},
   "cell_type": "markdown",
   "metadata": {},
   "source": [
    "## Задача 2"
   ]
  },
  {
   "attachments": {},
   "cell_type": "markdown",
   "metadata": {},
   "source": [
    "На входной двери подъезда установлен кодовый замок, содержащий десять кнопок с цифрами от 0 до 9. \n",
    "\n",
    "Код содержит три цифры, которые нужно нажать одновременно . \n",
    "\n",
    "Какова вероятность того, что человек, не знающий код, откроет дверь с первой попытки?"
   ]
  },
  {
   "cell_type": "markdown",
   "metadata": {},
   "source": [
    "#### Решение"
   ]
  },
  {
   "cell_type": "markdown",
   "metadata": {},
   "source": [
    "------------------------------------------"
   ]
  },
  {
   "attachments": {},
   "cell_type": "markdown",
   "metadata": {},
   "source": [
    "Событие А - нажать верные 3 цифры кода одновременно.\n",
    "\n",
    "Вероятность события А рассчитывается по формуле: \n",
    "\n",
    "Р(А) = M / N\n",
    "\n",
    "M = 1 - количество благоприятных исходов.\n",
    "\n",
    "Найдем общее количество возможных комбинаций из 3 цифр N.\n",
    "\n",
    "В событии участвуют только 3 цифры из 10 и их порядок неважен (т.к. нажимаем их одновременно).\n",
    "\n",
    "Применим формулу комбинаторики для сочетаний, чтобы найти N:\n",
    "\n",
    "N = C<sub>n</sub><sup>k</sup> = n! / (k! * (n - k)!), где\n",
    "\n",
    "n = 10 - всего кнопок с цифрами\n",
    "\n",
    "k = 3 - цифр в коде\n",
    "\n",
    "N = C<sub>10</sub><sup>3</sup> = 10! / (3! * (10 - 3)!)"
   ]
  },
  {
   "cell_type": "code",
   "execution_count": 8,
   "metadata": {},
   "outputs": [
    {
     "data": {
      "text/plain": [
       "'N = 120'"
      ]
     },
     "execution_count": 8,
     "metadata": {},
     "output_type": "execute_result"
    }
   ],
   "source": [
    "f'N = {factorial(10) // (factorial(3) * factorial(10 - 3))}'"
   ]
  },
  {
   "cell_type": "code",
   "execution_count": 9,
   "metadata": {},
   "outputs": [
    {
     "data": {
      "text/plain": [
       "'Ответ: P(A) = M / N = 0.83%.'"
      ]
     },
     "execution_count": 9,
     "metadata": {},
     "output_type": "execute_result"
    }
   ],
   "source": [
    "f'Ответ: P(A) = M / N = {round(1 / 120 * 100, 2)}%.'"
   ]
  }
 ],
 "metadata": {
  "kernelspec": {
   "display_name": "Python 3",
   "language": "python",
   "name": "python3"
  },
  "language_info": {
   "codemirror_mode": {
    "name": "ipython",
    "version": 3
   },
   "file_extension": ".py",
   "mimetype": "text/x-python",
   "name": "python",
   "nbconvert_exporter": "python",
   "pygments_lexer": "ipython3",
   "version": "3.10.10"
  },
  "orig_nbformat": 4
 },
 "nbformat": 4,
 "nbformat_minor": 2
}
