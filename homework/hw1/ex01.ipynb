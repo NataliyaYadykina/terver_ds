{
 "cells": [
  {
   "cell_type": "code",
   "execution_count": 22,
   "metadata": {},
   "outputs": [],
   "source": [
    "from math import factorial"
   ]
  },
  {
   "attachments": {},
   "cell_type": "markdown",
   "metadata": {},
   "source": [
    "# Домашняя работа по Уроку 1. Расчет вероятности случайных событий"
   ]
  },
  {
   "attachments": {},
   "cell_type": "markdown",
   "metadata": {},
   "source": [
    "## Задача 1"
   ]
  },
  {
   "attachments": {},
   "cell_type": "markdown",
   "metadata": {},
   "source": [
    "Из колоды в 52 карты извлекаются случайным образом 4 карты. \n",
    "\n",
    "a) Найти вероятность того, что все 4 карты – крести. \n",
    "\n",
    "б) Найти вероятность, что среди 4-х карт окажется хотя бы один туз."
   ]
  },
  {
   "attachments": {},
   "cell_type": "markdown",
   "metadata": {},
   "source": [
    "#### Решение"
   ]
  },
  {
   "attachments": {},
   "cell_type": "markdown",
   "metadata": {},
   "source": [
    "------------------------------------------"
   ]
  },
  {
   "attachments": {},
   "cell_type": "markdown",
   "metadata": {},
   "source": [
    "а) Найти вероятность того, что все 4 карты – крести. \n",
    "\n",
    "Событие А - извлекли 4 карты крести\n",
    "\n",
    "Вероятность события А рассчитывается по формуле: \n",
    "\n",
    "Р(А) = m / n\n",
    "\n",
    "Найдем m - количество благоприятных исходов.\n",
    "\n",
    "В событии участвуют 4 карты из 52, их порядок не важен.\n",
    "\n",
    "Применим формулу комбинаторики для сочетаний, чтобы найти m:\n",
    "\n",
    "m = C<sub>n</sub><sup>k</sup> = n! / (k! * (n - k)!), где\n",
    "\n",
    "n = 52 / 4 = 13 - всего карт крести в колоде из 52 карт\n",
    "\n",
    "k = 4\n",
    "\n",
    "m = C<sub>13</sub><sup>4</sup> = 13! / (4! * (13 - 4)!) = "
   ]
  },
  {
   "cell_type": "code",
   "execution_count": 23,
   "metadata": {},
   "outputs": [],
   "source": [
    "def count_variants_m():\n",
    "    return factorial(13) // (factorial(4) * factorial(13 - 4))"
   ]
  },
  {
   "cell_type": "code",
   "execution_count": 24,
   "metadata": {},
   "outputs": [
    {
     "data": {
      "text/plain": [
       "'m = 715 - количество вариантов вытянуть 4 карты крести.'"
      ]
     },
     "execution_count": 24,
     "metadata": {},
     "output_type": "execute_result"
    }
   ],
   "source": [
    "f'm = {count_variants_m()} - количество вариантов вытянуть 4 карты крести.'"
   ]
  },
  {
   "attachments": {},
   "cell_type": "markdown",
   "metadata": {},
   "source": [
    "Найдем общее количество возможных комбинаций из 4 карт n:\n",
    "\n",
    "n = C<sub>n</sub><sup>k</sup> = n! / (k! * (n - k)!), где\n",
    "\n",
    "n = 52 - всего карт в колоде\n",
    "\n",
    "k = 4\n",
    "\n",
    "n = C<sub>52</sub><sup>4</sup> = 52! / (4! * (52 - 4)!) = "
   ]
  },
  {
   "cell_type": "code",
   "execution_count": 25,
   "metadata": {},
   "outputs": [],
   "source": [
    "def count_variants_n():\n",
    "    return factorial(52) // (factorial(4) * factorial(52 - 4))"
   ]
  },
  {
   "cell_type": "code",
   "execution_count": 26,
   "metadata": {},
   "outputs": [
    {
     "data": {
      "text/plain": [
       "'n = 270725 - количество вариантов вытянуть 4 любые карты.'"
      ]
     },
     "execution_count": 26,
     "metadata": {},
     "output_type": "execute_result"
    }
   ],
   "source": [
    "f'n = {count_variants_n()} - количество вариантов вытянуть 4 любые карты.'"
   ]
  },
  {
   "attachments": {},
   "cell_type": "markdown",
   "metadata": {},
   "source": [
    "Теперь найдем вероятность события А\n",
    "\n",
    "Р(А) = m / n = 715 / 270725 = "
   ]
  },
  {
   "cell_type": "code",
   "execution_count": 27,
   "metadata": {},
   "outputs": [],
   "source": [
    "def result():\n",
    "    return count_variants_m() / count_variants_n() * 100"
   ]
  },
  {
   "cell_type": "code",
   "execution_count": 28,
   "metadata": {},
   "outputs": [
    {
     "data": {
      "text/plain": [
       "'Ответ: 0.26%'"
      ]
     },
     "execution_count": 28,
     "metadata": {},
     "output_type": "execute_result"
    }
   ],
   "source": [
    "f'Ответ: {round(result(), 2)}%'"
   ]
  },
  {
   "attachments": {},
   "cell_type": "markdown",
   "metadata": {},
   "source": [
    "-------------------------------------------------------------------------"
   ]
  },
  {
   "attachments": {},
   "cell_type": "markdown",
   "metadata": {},
   "source": [
    "б) Найти вероятность, что среди 4-х карт окажется хотя бы один туз.\n",
    "\n",
    "Событие А - извлекли 4 карты, в числе которых есть 1, или 2, или 3, или 4 туза.\n",
    "\n",
    "Вероятность события А рассчитывается по формуле: \n",
    "\n",
    "Р(А) = m / n\n",
    "\n",
    "Найдем m - количество благоприятных исходов.\n",
    "\n",
    "m = m1 + m2 + m3 + m4\n",
    "\n",
    "В событии участвуют 4 карты из 52, их порядок не важен.\n",
    "\n",
    "Применим формулу комбинаторики для сочетаний, чтобы найти m:\n",
    "\n",
    "m = C<sub>n</sub><sup>k</sup> = n! / (k! * (n - k)!) \n",
    "\n",
    "m1 = C<sub>4</sub><sup>1</sup> * C<sub>48</sub><sup>3</sup> - 1 туз И 3 не туза"
   ]
  },
  {
   "cell_type": "code",
   "execution_count": 29,
   "metadata": {},
   "outputs": [
    {
     "data": {
      "text/plain": [
       "'m1 = 69184'"
      ]
     },
     "execution_count": 29,
     "metadata": {},
     "output_type": "execute_result"
    }
   ],
   "source": [
    "m1 = 4 * (factorial(48) // (factorial(3) * factorial(48 - 3)))\n",
    "f'm1 = {m1}'"
   ]
  },
  {
   "attachments": {},
   "cell_type": "markdown",
   "metadata": {},
   "source": [
    "m2 = C<sub>4</sub><sup>2</sup> * C<sub>48</sub><sup>2</sup> - 2 туза И 2 не туза"
   ]
  },
  {
   "cell_type": "code",
   "execution_count": 30,
   "metadata": {},
   "outputs": [
    {
     "data": {
      "text/plain": [
       "'m2 = 6768'"
      ]
     },
     "execution_count": 30,
     "metadata": {},
     "output_type": "execute_result"
    }
   ],
   "source": [
    "m2 = (factorial(4) // (factorial(2) * factorial(4 - 2))) * (factorial(48) // (factorial(2) * factorial(48 - 2)))\n",
    "f'm2 = {m2}'"
   ]
  },
  {
   "attachments": {},
   "cell_type": "markdown",
   "metadata": {},
   "source": [
    "m3 = C<sub>4</sub><sup>3</sup> * C<sub>48</sub><sup>1</sup> - 3 туза И 1 не туз"
   ]
  },
  {
   "cell_type": "code",
   "execution_count": 31,
   "metadata": {},
   "outputs": [
    {
     "data": {
      "text/plain": [
       "'m3 = 192'"
      ]
     },
     "execution_count": 31,
     "metadata": {},
     "output_type": "execute_result"
    }
   ],
   "source": [
    "m3 = (factorial(4) // (factorial(3) * factorial(4 - 3))) * 48\n",
    "f'm3 = {m3}'"
   ]
  },
  {
   "attachments": {},
   "cell_type": "markdown",
   "metadata": {},
   "source": [
    "m4 = C<sub>4</sub><sup>4</sup> - 4 туза"
   ]
  },
  {
   "cell_type": "code",
   "execution_count": 32,
   "metadata": {},
   "outputs": [
    {
     "data": {
      "text/plain": [
       "'m4 = 1'"
      ]
     },
     "execution_count": 32,
     "metadata": {},
     "output_type": "execute_result"
    }
   ],
   "source": [
    "m4 = 1\n",
    "f'm4 = {m4}'"
   ]
  },
  {
   "cell_type": "code",
   "execution_count": 33,
   "metadata": {},
   "outputs": [
    {
     "data": {
      "text/plain": [
       "'76145 - количество благоприятных исходов события А.'"
      ]
     },
     "execution_count": 33,
     "metadata": {},
     "output_type": "execute_result"
    }
   ],
   "source": [
    "m = m1 + m2 + m3 + m4\n",
    "f'{m} - количество благоприятных исходов события А.'"
   ]
  },
  {
   "cell_type": "code",
   "execution_count": 34,
   "metadata": {},
   "outputs": [
    {
     "data": {
      "text/plain": [
       "'n = 270725 - количество вариантов вытянуть 4 любые карты.'"
      ]
     },
     "execution_count": 34,
     "metadata": {},
     "output_type": "execute_result"
    }
   ],
   "source": [
    "f'n = {count_variants_n()} - количество вариантов вытянуть 4 любые карты.'"
   ]
  },
  {
   "attachments": {},
   "cell_type": "markdown",
   "metadata": {},
   "source": [
    "Теперь можно рассчитать вероятность, что среди вытянутых 4 карт окажется хотя бы 1 туз:"
   ]
  },
  {
   "cell_type": "code",
   "execution_count": 35,
   "metadata": {},
   "outputs": [
    {
     "data": {
      "text/plain": [
       "'Ответ: P(A) = 28.13%'"
      ]
     },
     "execution_count": 35,
     "metadata": {},
     "output_type": "execute_result"
    }
   ],
   "source": [
    "f'Ответ: P(A) = {round(m / count_variants_n() * 100, 2)}%'"
   ]
  }
 ],
 "metadata": {
  "kernelspec": {
   "display_name": "Python 3",
   "language": "python",
   "name": "python3"
  },
  "language_info": {
   "codemirror_mode": {
    "name": "ipython",
    "version": 3
   },
   "file_extension": ".py",
   "mimetype": "text/x-python",
   "name": "python",
   "nbconvert_exporter": "python",
   "pygments_lexer": "ipython3",
   "version": "3.10.10"
  },
  "orig_nbformat": 4
 },
 "nbformat": 4,
 "nbformat_minor": 2
}
