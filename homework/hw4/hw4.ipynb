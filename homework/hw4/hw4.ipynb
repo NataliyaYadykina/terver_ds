{
 "cells": [
  {
   "cell_type": "code",
   "execution_count": 43,
   "metadata": {},
   "outputs": [],
   "source": [
    "from math import sqrt\n",
    "from scipy import stats"
   ]
  },
  {
   "attachments": {},
   "cell_type": "markdown",
   "metadata": {},
   "source": [
    "# Домашняя работа по уроку 4.  Непрерывная случайная величина"
   ]
  },
  {
   "attachments": {},
   "cell_type": "markdown",
   "metadata": {},
   "source": [
    "-----"
   ]
  },
  {
   "attachments": {},
   "cell_type": "markdown",
   "metadata": {},
   "source": [
    "## Задача 1"
   ]
  },
  {
   "attachments": {},
   "cell_type": "markdown",
   "metadata": {},
   "source": [
    "Случайная непрерывная величина A имеет равномерное распределение на промежутке (200, 800].\n",
    "\n",
    "Найдите ее среднее значение и дисперсию."
   ]
  },
  {
   "attachments": {},
   "cell_type": "markdown",
   "metadata": {},
   "source": [
    "### Решение\n",
    "\n",
    "Для равномерного распределения используются формулы:\n",
    "\n",
    "Среднее значение - М(х) = (а + b) / 2\n",
    "\n",
    "Дисперсия - D = ((b - a)^2) / 12"
   ]
  },
  {
   "cell_type": "code",
   "execution_count": 44,
   "metadata": {},
   "outputs": [
    {
     "data": {
      "text/plain": [
       "500.0"
      ]
     },
     "execution_count": 44,
     "metadata": {},
     "output_type": "execute_result"
    }
   ],
   "source": [
    "# M(x)\n",
    "a = 200\n",
    "b = 800\n",
    "m = (a + b) / 2\n",
    "m"
   ]
  },
  {
   "cell_type": "code",
   "execution_count": 45,
   "metadata": {},
   "outputs": [
    {
     "data": {
      "text/plain": [
       "30000.0"
      ]
     },
     "execution_count": 45,
     "metadata": {},
     "output_type": "execute_result"
    }
   ],
   "source": [
    "# D\n",
    "d = (b - a) ** 2 / 12 \n",
    "d"
   ]
  },
  {
   "attachments": {},
   "cell_type": "markdown",
   "metadata": {},
   "source": [
    "Ответ: 500; 30000"
   ]
  },
  {
   "attachments": {},
   "cell_type": "markdown",
   "metadata": {},
   "source": [
    "------"
   ]
  },
  {
   "attachments": {},
   "cell_type": "markdown",
   "metadata": {},
   "source": [
    "## Задача 2\n",
    "\n",
    "О случайной непрерывной равномерно распределенной величине B известно, \n",
    "\n",
    "что ее дисперсия равна 0.2.\n",
    "\n",
    "Можно ли найти правую границу величины B и ее среднее значение зная, \n",
    "\n",
    "что левая граница равна 0.5?\n",
    "\n",
    "Если да, найдите ее.\n",
    "\n",
    "### Решение\n",
    "\n",
    "Можно:\n",
    "\n",
    "D = 0.2\n",
    "\n",
    "a = 0.5\n",
    "\n",
    "Для равномерного распределения используются формулы:\n",
    "\n",
    "Среднее значение - М(х) = (а + b) / 2\n",
    "\n",
    "Дисперсия - D = ((b - a)^2) / 12\n",
    "\n",
    "0.2 = ((b - 0.5)^2) / 12\n",
    "\n",
    "2.4 = (b - 0.5)^2"
   ]
  },
  {
   "cell_type": "code",
   "execution_count": 46,
   "metadata": {},
   "outputs": [
    {
     "data": {
      "text/plain": [
       "2.049193338482967"
      ]
     },
     "execution_count": 46,
     "metadata": {},
     "output_type": "execute_result"
    }
   ],
   "source": [
    "# b\n",
    "b = sqrt(2.4) + 0.5\n",
    "b"
   ]
  },
  {
   "cell_type": "code",
   "execution_count": 47,
   "metadata": {},
   "outputs": [
    {
     "data": {
      "text/plain": [
       "1.2745966692414834"
      ]
     },
     "execution_count": 47,
     "metadata": {},
     "output_type": "execute_result"
    }
   ],
   "source": [
    "# M(x)\n",
    "a = 0.5\n",
    "m = (a + b) / 2 \n",
    "m"
   ]
  },
  {
   "attachments": {},
   "cell_type": "markdown",
   "metadata": {},
   "source": [
    "Ответ: b=2.04919; M(x)=1.2746"
   ]
  },
  {
   "attachments": {},
   "cell_type": "markdown",
   "metadata": {},
   "source": [
    "-----------"
   ]
  },
  {
   "attachments": {},
   "cell_type": "markdown",
   "metadata": {},
   "source": [
    "## Задача 3\n",
    "\n",
    "Непрерывная случайная величина X распределена нормально\n",
    "\n",
    "и задана плотностью распределения\n",
    "\n",
    "f(x) = (1 / (4 * sqrt(2pi))) * exp((-(x+2)**2) / 32)\n",
    "\n",
    "Найдите:\n",
    "\n",
    "а). M(X)\n",
    "\n",
    "б). D(X)\n",
    "\n",
    "в). std(X) (среднее квадратичное отклонение)\n",
    "\n",
    "### Решение\n",
    "\n",
    "Общий вид формулы плотности распределения нормально распределенной СВ Х имеет вид\n",
    "\n",
    "f(x) = (1 / (std(X) * sqrt(2pi))) * exp((-(x-M(X))^2) / (2*D(X)))\n",
    "\n",
    "Отсюда, можно заметить, что\n",
    "\n",
    "а) M(X) = -2\n",
    "\n",
    "б) D(X) = 32 / 2 = 16\n",
    "\n",
    "в) std(X) = 4\n",
    "\n",
    "Ответ: -2; 16; 4"
   ]
  },
  {
   "attachments": {},
   "cell_type": "markdown",
   "metadata": {},
   "source": [
    "------------"
   ]
  },
  {
   "attachments": {},
   "cell_type": "markdown",
   "metadata": {},
   "source": [
    "## Задача 4\n",
    "\n",
    "Рост взрослого населения города X имеет нормальное распределение, \n",
    "\n",
    "причем, средний рост равен 174 см, а среднее квадратическое отклонение равно 8 см. \n",
    "\n",
    "Посчитайте, какова вероятность того, что случайным образом выбранный взрослый человек имеет рост:\n",
    "\n",
    "1. больше 182 см?\n",
    "\n",
    "2. больше 190 см?\n",
    "\n",
    "3. от 166 см до 190 см?\n",
    "\n",
    "4. от 166 см до 182 см?\n",
    "\n",
    "5. от 158 см до 190 см?\n",
    "\n",
    "6. не выше 150 см или не ниже 190 см?\n",
    "\n",
    "7. не выше 150 см или не ниже 198 см?\n",
    "\n",
    "8. ниже 166 см?\n",
    "\n",
    "Задачу можно решить двумя способами: \n",
    "\n",
    "без использования сторонних библиотек (numpy, scipy, pandas и пр.), \n",
    "\n",
    "а затем проверить себя с помощью встроенных функций\n",
    "\n",
    "### Решение\n",
    "\n",
    "Для решения данной задачи будем использовать z-таблицу\n",
    "\n",
    "и формулу для нахождения Z-значений\n",
    "\n",
    "Z = (X - mu) / std(X)\n",
    "\n",
    "mu = 174, std(X) = 8"
   ]
  },
  {
   "cell_type": "code",
   "execution_count": 48,
   "metadata": {},
   "outputs": [],
   "source": [
    "mu = 174\n",
    "std = 8\n",
    "\n",
    "def z_val(x):\n",
    "    return (x - mu) / std"
   ]
  },
  {
   "cell_type": "code",
   "execution_count": 49,
   "metadata": {},
   "outputs": [
    {
     "data": {
      "text/plain": [
       "1.0"
      ]
     },
     "execution_count": 49,
     "metadata": {},
     "output_type": "execute_result"
    }
   ],
   "source": [
    "# 1. больше 182 см? - P(x > 182) = 1 - P(x < 182) (т.к. в z-таблице мы можем искать доли для значений только ниже указанного х)\n",
    "#            ///////////\n",
    "# ----------|----------\n",
    "#          182\n",
    "z_val(182)"
   ]
  },
  {
   "cell_type": "code",
   "execution_count": 50,
   "metadata": {},
   "outputs": [
    {
     "data": {
      "text/plain": [
       "0.15866000000000002"
      ]
     },
     "execution_count": 50,
     "metadata": {},
     "output_type": "execute_result"
    }
   ],
   "source": [
    "# P(x < 182) = .84134 (для 1.0 в z-таблице)\n",
    "# P(x > 182) = 1 - .84134\n",
    "1 - .84134"
   ]
  },
  {
   "cell_type": "code",
   "execution_count": 51,
   "metadata": {},
   "outputs": [
    {
     "data": {
      "text/plain": [
       "0.15865525393145707"
      ]
     },
     "execution_count": 51,
     "metadata": {},
     "output_type": "execute_result"
    }
   ],
   "source": [
    "# используя библиотеку scipy\n",
    "1 - stats.norm.cdf(182, loc=174, scale=8)"
   ]
  },
  {
   "cell_type": "code",
   "execution_count": 52,
   "metadata": {},
   "outputs": [
    {
     "data": {
      "text/plain": [
       "2.0"
      ]
     },
     "execution_count": 52,
     "metadata": {},
     "output_type": "execute_result"
    }
   ],
   "source": [
    "# 2. больше 190 см? - P(x > 190) = 1 - P(x < 190) (т.к. в z-таблице мы можем искать доли для значений только ниже указанного х)\n",
    "#            ///////////\n",
    "# ----------|----------\n",
    "#          190\n",
    "z_val(190)"
   ]
  },
  {
   "cell_type": "code",
   "execution_count": 53,
   "metadata": {},
   "outputs": [
    {
     "data": {
      "text/plain": [
       "0.022750000000000048"
      ]
     },
     "execution_count": 53,
     "metadata": {},
     "output_type": "execute_result"
    }
   ],
   "source": [
    "# P(x < 190) = .97725 (для 2.0 в z-таблице)\n",
    "# P(x > 190) = 1 - .97725\n",
    "1 - .97725"
   ]
  },
  {
   "cell_type": "code",
   "execution_count": 54,
   "metadata": {},
   "outputs": [
    {
     "data": {
      "text/plain": [
       "0.02275013194817921"
      ]
     },
     "execution_count": 54,
     "metadata": {},
     "output_type": "execute_result"
    }
   ],
   "source": [
    "# используя библиотеку scipy\n",
    "1 - stats.norm.cdf(190, loc=174, scale=8)"
   ]
  },
  {
   "cell_type": "code",
   "execution_count": 55,
   "metadata": {},
   "outputs": [
    {
     "data": {
      "text/plain": [
       "-1.0"
      ]
     },
     "execution_count": 55,
     "metadata": {},
     "output_type": "execute_result"
    }
   ],
   "source": [
    "# 3. от 166 см до 190 см? - P(166 < x < 190) = P(x < 190) - P(x < 166) = F(190) - F(166) \n",
    "#            ///////////\n",
    "# ----------|-----------|----------\n",
    "#          166         190\n",
    "z_val(166)"
   ]
  },
  {
   "cell_type": "code",
   "execution_count": 56,
   "metadata": {},
   "outputs": [
    {
     "data": {
      "text/plain": [
       "0.8185899999999999"
      ]
     },
     "execution_count": 56,
     "metadata": {},
     "output_type": "execute_result"
    }
   ],
   "source": [
    "# P(x < 166) = .15866 (для -1.0 в z-таблице)\n",
    "# P(166 < x < 190) = .97725 - .15866\n",
    ".97725 - .15866"
   ]
  },
  {
   "cell_type": "code",
   "execution_count": 57,
   "metadata": {},
   "outputs": [
    {
     "data": {
      "text/plain": [
       "0.8185946141203637"
      ]
     },
     "execution_count": 57,
     "metadata": {},
     "output_type": "execute_result"
    }
   ],
   "source": [
    "# используя библиотеку scipy\n",
    "stats.norm.cdf(190, loc=174, scale=8) - stats.norm.cdf(166, loc=174, scale=8)"
   ]
  },
  {
   "cell_type": "code",
   "execution_count": 58,
   "metadata": {},
   "outputs": [
    {
     "data": {
      "text/plain": [
       "0.68268"
      ]
     },
     "execution_count": 58,
     "metadata": {},
     "output_type": "execute_result"
    }
   ],
   "source": [
    "# 4. от 166 см до 182 см? - P(166 < x < 182) = P(x < 182) - P(x < 166) = F(182) - F(166) \n",
    "#            ///////////\n",
    "# ----------|-----------|----------\n",
    "#          166         182\n",
    "# P(x < 182) = .84134 (для 1.0 в z-таблице)\n",
    "# P(x < 166) = .15866 (для -1.0 в z-таблице)\n",
    "# P(166 < x < 182) = .84134 - .15866\n",
    ".84134 - .15866"
   ]
  },
  {
   "cell_type": "code",
   "execution_count": 59,
   "metadata": {},
   "outputs": [
    {
     "data": {
      "text/plain": [
       "0.6826894921370859"
      ]
     },
     "execution_count": 59,
     "metadata": {},
     "output_type": "execute_result"
    }
   ],
   "source": [
    "# используя библиотеку scipy\n",
    "stats.norm.cdf(182, loc=174, scale=8) - stats.norm.cdf(166, loc=174, scale=8)"
   ]
  },
  {
   "cell_type": "code",
   "execution_count": 60,
   "metadata": {},
   "outputs": [
    {
     "data": {
      "text/plain": [
       "-2.0"
      ]
     },
     "execution_count": 60,
     "metadata": {},
     "output_type": "execute_result"
    }
   ],
   "source": [
    "# 5. от 158 см до 190 см? - P(158 < x < 190) = P(x < 190) - P(x < 158) = F(190) - F(158) \n",
    "#            ///////////\n",
    "# ----------|-----------|----------\n",
    "#          158         190\n",
    "z_val(158)"
   ]
  },
  {
   "cell_type": "code",
   "execution_count": 61,
   "metadata": {},
   "outputs": [
    {
     "data": {
      "text/plain": [
       "0.9544999999999999"
      ]
     },
     "execution_count": 61,
     "metadata": {},
     "output_type": "execute_result"
    }
   ],
   "source": [
    "# P(x < 158) = .02275 (для -2.0 в z-таблице)\n",
    "# P(158 < x < 190) = .97725 - .02275\n",
    ".97725 - .02275"
   ]
  },
  {
   "cell_type": "code",
   "execution_count": 62,
   "metadata": {},
   "outputs": [
    {
     "data": {
      "text/plain": [
       "0.9544997361036416"
      ]
     },
     "execution_count": 62,
     "metadata": {},
     "output_type": "execute_result"
    }
   ],
   "source": [
    "# используя библиотеку scipy\n",
    "stats.norm.cdf(190, loc=174, scale=8) - stats.norm.cdf(158, loc=174, scale=8)"
   ]
  },
  {
   "cell_type": "code",
   "execution_count": 63,
   "metadata": {},
   "outputs": [
    {
     "data": {
      "text/plain": [
       "-3.0"
      ]
     },
     "execution_count": 63,
     "metadata": {},
     "output_type": "execute_result"
    }
   ],
   "source": [
    "# 6. не выше 150 см или не ниже 190 см? - P(x < 150) + (1 - P(x < 190)) \n",
    "# ///////////            ///////////\n",
    "# ----------|-----------|----------\n",
    "#          150         190\n",
    "z_val(150)"
   ]
  },
  {
   "cell_type": "code",
   "execution_count": 64,
   "metadata": {},
   "outputs": [
    {
     "data": {
      "text/plain": [
       "0.02410000000000001"
      ]
     },
     "execution_count": 64,
     "metadata": {},
     "output_type": "execute_result"
    }
   ],
   "source": [
    "# P(x < 190) = .97725 (для 2.0 в z-таблице)\n",
    "# P(x < 150) = .00135 (для -3.0 в z-таблице)\n",
    ".00135 + 1 - .97725"
   ]
  },
  {
   "cell_type": "code",
   "execution_count": 65,
   "metadata": {},
   "outputs": [
    {
     "data": {
      "text/plain": [
       "0.0241000299798092"
      ]
     },
     "execution_count": 65,
     "metadata": {},
     "output_type": "execute_result"
    }
   ],
   "source": [
    "# используя библиотеку scipy\n",
    "stats.norm.cdf(150, loc=174, scale=8) + 1 - stats.norm.cdf(190, loc=174, scale=8)"
   ]
  },
  {
   "cell_type": "code",
   "execution_count": 66,
   "metadata": {},
   "outputs": [
    {
     "data": {
      "text/plain": [
       "3.0"
      ]
     },
     "execution_count": 66,
     "metadata": {},
     "output_type": "execute_result"
    }
   ],
   "source": [
    "# 7. не выше 150 см или не ниже 198 см? - P(x < 150) + (1 - P(x < 198)) \n",
    "# ///////////            ///////////\n",
    "# ----------|-----------|----------\n",
    "#          150         198\n",
    "z_val(198)"
   ]
  },
  {
   "cell_type": "code",
   "execution_count": 67,
   "metadata": {},
   "outputs": [
    {
     "data": {
      "text/plain": [
       "0.0026999999999999247"
      ]
     },
     "execution_count": 67,
     "metadata": {},
     "output_type": "execute_result"
    }
   ],
   "source": [
    "# P(x < 198) = .99865 (для 3.0 в z-таблице)\n",
    "# P(x < 150) = .00135 (для -3.0 в z-таблице)\n",
    ".00135 + 1 - .99865"
   ]
  },
  {
   "cell_type": "code",
   "execution_count": 68,
   "metadata": {},
   "outputs": [
    {
     "data": {
      "text/plain": [
       "0.002699796063260096"
      ]
     },
     "execution_count": 68,
     "metadata": {},
     "output_type": "execute_result"
    }
   ],
   "source": [
    "# используя библиотеку scipy\n",
    "stats.norm.cdf(150, loc=174, scale=8) + 1 - stats.norm.cdf(198, loc=174, scale=8)"
   ]
  },
  {
   "cell_type": "code",
   "execution_count": 69,
   "metadata": {},
   "outputs": [],
   "source": [
    "# 8. P(x < 166) = .15866 (для -1.0 в z-таблице)\n",
    "# /////////// \n",
    "# ----------|-----------\n",
    "#          166 "
   ]
  },
  {
   "cell_type": "code",
   "execution_count": 70,
   "metadata": {},
   "outputs": [
    {
     "data": {
      "text/plain": [
       "0.15865525393145707"
      ]
     },
     "execution_count": 70,
     "metadata": {},
     "output_type": "execute_result"
    }
   ],
   "source": [
    "# используя библиотеку scipy\n",
    "stats.norm.cdf(166, loc=174, scale=8)"
   ]
  },
  {
   "attachments": {},
   "cell_type": "markdown",
   "metadata": {},
   "source": [
    "Ответ:\n",
    "\n",
    "1) P(x > 182) = 0.15866\n",
    "\n",
    "2) P(x > 190) = 0.02275\n",
    "\n",
    "3) P(166 < x < 190) = 0.81859\n",
    "\n",
    "4) P(166 < x < 182) = 0.68268\n",
    "\n",
    "5) P(158 < x < 190) = 0.9545\n",
    "\n",
    "6) P(x < 150) + P(x > 190) = 0.0241\n",
    "\n",
    "7) P(x < 150) + P(x > 198) = 0.0027\n",
    "\n",
    "8) P(x < 166) = 0.15866"
   ]
  },
  {
   "attachments": {},
   "cell_type": "markdown",
   "metadata": {},
   "source": [
    "----------"
   ]
  },
  {
   "attachments": {},
   "cell_type": "markdown",
   "metadata": {},
   "source": [
    "## Задача 5\n",
    "\n",
    "На сколько сигм (средних квадратичных отклонений) отклоняется рост человека, равный 190 см, \n",
    "\n",
    "от математического ожидания роста в популяции, в которой M(X) = 178 см и D(X) = 25 кв.см?\n",
    "\n",
    "### Решение\n",
    "\n",
    "std(X) = 5\n",
    "\n",
    "Z = (X - M(X)) / 5"
   ]
  },
  {
   "cell_type": "code",
   "execution_count": 71,
   "metadata": {},
   "outputs": [
    {
     "data": {
      "text/plain": [
       "2.4"
      ]
     },
     "execution_count": 71,
     "metadata": {},
     "output_type": "execute_result"
    }
   ],
   "source": [
    "(190 - 178) / 5"
   ]
  },
  {
   "attachments": {},
   "cell_type": "markdown",
   "metadata": {},
   "source": [
    "Ответ: на 2.4 сигмы."
   ]
  }
 ],
 "metadata": {
  "kernelspec": {
   "display_name": "Python 3",
   "language": "python",
   "name": "python3"
  },
  "language_info": {
   "codemirror_mode": {
    "name": "ipython",
    "version": 3
   },
   "file_extension": ".py",
   "mimetype": "text/x-python",
   "name": "python",
   "nbconvert_exporter": "python",
   "pygments_lexer": "ipython3",
   "version": "3.10.11"
  },
  "orig_nbformat": 4
 },
 "nbformat": 4,
 "nbformat_minor": 2
}
